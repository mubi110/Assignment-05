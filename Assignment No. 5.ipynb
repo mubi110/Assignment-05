{
 "cells": [
  {
   "cell_type": "markdown",
   "id": "56601405-6b76-4bc6-8de8-e607067d4fa5",
   "metadata": {},
   "source": [
    "## Question No1"
   ]
  },
  {
   "cell_type": "code",
   "execution_count": 5,
   "id": "a404a110-1050-4ae5-8c6b-90774740d0b8",
   "metadata": {},
   "outputs": [
    {
     "data": {
      "text/plain": [
       "[{'emp_ID': 1, 'name': 'Danial', 'Department': 'FInance'},\n",
       " {'emp_ID': 2, 'name': 'Uzair', 'Department': 'Recovery'},\n",
       " {'emp_ID': 3, 'name': 'Farrukh', 'Department': 'AMF'}]"
      ]
     },
     "execution_count": 5,
     "metadata": {},
     "output_type": "execute_result"
    }
   ],
   "source": [
    "emp_record = [\n",
    "    {\n",
    "        'emp_ID' : 1,\n",
    "        'name' : \"Danial\",\n",
    "        'Department' : \"FInance\"\n",
    "    },\n",
    "    {\n",
    "        'emp_ID' : 2,\n",
    "        'name' : \"Uzair\",\n",
    "        'Department' : \"Recovery\"\n",
    "    },\n",
    "    {\n",
    "        'emp_ID' : 3,\n",
    "        'name' : \"Farrukh\",\n",
    "        'Department' : \"AMF\"\n",
    "    }\n",
    "]\n",
    "emp_record"
   ]
  },
  {
   "cell_type": "markdown",
   "id": "41f38af1-f139-470b-9dc8-d67c6b7c3f32",
   "metadata": {},
   "source": [
    "## Question No 2"
   ]
  },
  {
   "cell_type": "code",
   "execution_count": 9,
   "id": "fd22d15f-053c-48d2-80f2-3ef6592e4138",
   "metadata": {},
   "outputs": [
    {
     "data": {
      "text/plain": [
       "[{'inv_ID': 1, 'description': 'Biscuits', 'quantity': 150},\n",
       " {'inv_ID': 2, 'description': 'Snacks', 'quantity': 500},\n",
       " {'inv_ID': 3, 'description': 'Sweets', 'quantity': 650}]"
      ]
     },
     "execution_count": 9,
     "metadata": {},
     "output_type": "execute_result"
    }
   ],
   "source": [
    "inv_sys = [\n",
    "    {\n",
    "        'inv_ID' : 1,\n",
    "        'description' : \"Biscuits\",\n",
    "        'quantity' : 150\n",
    "    },\n",
    "    {\n",
    "        'inv_ID' : 2,\n",
    "        'description' : \"Snacks\",\n",
    "        'quantity' : 500\n",
    "    },\n",
    "    {\n",
    "        'inv_ID' : 3,\n",
    "        'description' : \"Sweets\",\n",
    "        'quantity' : 650\n",
    "    }\n",
    "]\n",
    "inv_sys"
   ]
  },
  {
   "cell_type": "markdown",
   "id": "63bf6a8c-be08-4b18-9d8d-330a9de787a5",
   "metadata": {},
   "source": [
    "## Question No 3"
   ]
  },
  {
   "cell_type": "code",
   "execution_count": 132,
   "id": "e8522be4-91b7-4115-bdb0-8f00ea55c41f",
   "metadata": {},
   "outputs": [
    {
     "name": "stdout",
     "output_type": "stream",
     "text": [
      "Meeting is schedule on: 2024-08-19\n",
      "At time of: 15:30:00\n"
     ]
    },
    {
     "data": {
      "text/plain": [
       "[{'date': None, 'time': None}]"
      ]
     },
     "execution_count": 132,
     "metadata": {},
     "output_type": "execute_result"
    }
   ],
   "source": [
    "from datetime import datetime, date, time\n",
    "\n",
    "meeting = [\n",
    "    {\n",
    "        'date' : print(\"Meeting is schedule on:\",date(2024,8,19)),\n",
    "        'time' : print(\"At time of:\",time(15,30))\n",
    "    }\n",
    "]\n",
    "meeting"
   ]
  },
  {
   "cell_type": "markdown",
   "id": "5eb23065-4775-4c0e-9891-ab39cd75f651",
   "metadata": {},
   "source": [
    "## Question No 4"
   ]
  },
  {
   "cell_type": "code",
   "execution_count": 144,
   "id": "8fe4bb64-926b-4c4b-af9f-c1cb163c5050",
   "metadata": {},
   "outputs": [
    {
     "data": {
      "text/plain": [
       "[{'HR_1': {101: ('Alice Smith', 'Senior HR Manager'),\n",
       "   102: ('Bob Johnson', 'HR Specialist')},\n",
       "  'Finance_2': {201: ('Carol Williams', 'Financial Analyst'),\n",
       "   202: ('David Brown', 'Accountant')}}]"
      ]
     },
     "execution_count": 144,
     "metadata": {},
     "output_type": "execute_result"
    }
   ],
   "source": [
    "emp_detail = [\n",
    "    {\n",
    "    \"HR_1\": {\n",
    "        101: (\"Alice Smith\", \"Senior HR Manager\"),\n",
    "        102: (\"Bob Johnson\", \"HR Specialist\")\n",
    "    },\n",
    "    \"Finance_2\": {\n",
    "        201: (\"Carol Williams\", \"Financial Analyst\"),\n",
    "        202: (\"David Brown\", \"Accountant\")\n",
    "    }\n",
    "}\n",
    "]\n",
    "emp_detail"
   ]
  },
  {
   "cell_type": "markdown",
   "id": "26f64269-d4ce-4922-9f69-c68319fff3fd",
   "metadata": {},
   "source": [
    "## Question No 5"
   ]
  },
  {
   "cell_type": "code",
   "execution_count": 152,
   "id": "d4381b09-294a-4166-9f7b-087da68d5024",
   "metadata": {},
   "outputs": [
    {
     "data": {
      "text/plain": [
       "[{'ID': 1,\n",
       "  'Name': 'Anees',\n",
       "  'Scores': {'Math': 85, 'English': 92, 'Science': 88}},\n",
       " {'ID': 2,\n",
       "  'Name': 'Iftikhar',\n",
       "  'Scores': {'Math': 78, 'English': 81, 'Science': 89}}]"
      ]
     },
     "execution_count": 152,
     "metadata": {},
     "output_type": "execute_result"
    }
   ],
   "source": [
    "students = [\n",
    "    {\n",
    "        \"ID\": 1,\n",
    "        \"Name\": \"Anees\",\n",
    "        \"Scores\": {\n",
    "            \"Math\": 85,\n",
    "            \"English\": 92,\n",
    "            \"Science\": 88\n",
    "        }\n",
    "    },\n",
    "    {\n",
    "        \"ID\": 2,\n",
    "        \"Name\": \"Iftikhar\",\n",
    "        \"Scores\": {\n",
    "            \"Math\": 78,\n",
    "            \"English\": 81,\n",
    "            \"Science\": 89\n",
    "        }\n",
    "    }\n",
    "]\n",
    "students"
   ]
  },
  {
   "cell_type": "markdown",
   "id": "1537e636-848e-4c99-b8e5-1b78f6c31d6d",
   "metadata": {},
   "source": [
    "## Question No 6"
   ]
  },
  {
   "cell_type": "code",
   "execution_count": 164,
   "id": "7fe46897-2c91-4f9f-8269-fada2ce59792",
   "metadata": {},
   "outputs": [
    {
     "data": {
      "text/plain": [
       "'Task A: Requirements'"
      ]
     },
     "execution_count": 164,
     "metadata": {},
     "output_type": "execute_result"
    }
   ],
   "source": [
    "projects = {\n",
    "    \"Project 1\": [\n",
    "        \"Task A: Requirements\",\n",
    "        \"Task B: Develop prototype\",\n",
    "        \"Task C: Test prototype\"\n",
    "    ],\n",
    "    \"Project 2\": [\n",
    "        \"Task 1: Market research\",\n",
    "        \"Task 2: Design product\",\n",
    "        \"Task 3: Launch campaign\"\n",
    "    ]\n",
    "}\n",
    "projects[\"Project 1\"][0]"
   ]
  },
  {
   "cell_type": "markdown",
   "id": "a49ad519-c84f-43a0-8d66-a782ddb35ab7",
   "metadata": {},
   "source": [
    "## Question No 7"
   ]
  },
  {
   "cell_type": "code",
   "execution_count": 169,
   "id": "92823232-40b1-4c07-80fe-5a39f16ebd8b",
   "metadata": {},
   "outputs": [
    {
     "data": {
      "text/plain": [
       "{'Introduction': 'Python Basic Syntax and Data Types',\n",
       " 'Python Data Structures': 'list, set, tuples, and dictionary.'}"
      ]
     },
     "execution_count": 169,
     "metadata": {},
     "output_type": "execute_result"
    }
   ],
   "source": [
    "courses = {\n",
    "    \"Python Programming\": {\n",
    "        \"Introduction\": \"Python Basic Syntax and Data Types\",\n",
    "        \"Python Data Structures\": \"list, set, tuples, and dictionary.\",\n",
    "    },\n",
    "    \"Web Development\": {\n",
    "        \"HTML\": \"Standard markup language for creating Web pages\",\n",
    "        \"CSS\": \"Style to a web page by dictating how a site is displayed on a browser.\",\n",
    "        \"JavaScript\": \"Client-side scripting, dynamic and interactive web page to interact with visitors and execute complex actions.\"\n",
    "    }\n",
    "}\n",
    "courses[\"Python Programming\"]"
   ]
  },
  {
   "cell_type": "markdown",
   "id": "7a7dfbf9-9feb-4851-89b8-3cbbbfe01825",
   "metadata": {},
   "source": [
    "## Question No 8"
   ]
  },
  {
   "cell_type": "code",
   "execution_count": 178,
   "id": "18af6e08-4a46-4417-9a60-c2730c0f2c12",
   "metadata": {},
   "outputs": [
    {
     "data": {
      "text/plain": [
       "('Laptop', 150000)"
      ]
     },
     "execution_count": 178,
     "metadata": {},
     "output_type": "execute_result"
    }
   ],
   "source": [
    "products = [\n",
    "    (\"Laptop\", 150000),\n",
    "    (\"Smartphone\", 50000),\n",
    "    (\"Headphones\", 1500),\n",
    "    (\"Keyboard\", 950),\n",
    "    (\"Mouse\", 350)\n",
    "]\n",
    "products[0]"
   ]
  },
  {
   "cell_type": "code",
   "execution_count": null,
   "id": "415e6091-a8db-4812-b9b8-576ac2d11da9",
   "metadata": {},
   "outputs": [],
   "source": []
  }
 ],
 "metadata": {
  "kernelspec": {
   "display_name": "Python 3 (ipykernel)",
   "language": "python",
   "name": "python3"
  },
  "language_info": {
   "codemirror_mode": {
    "name": "ipython",
    "version": 3
   },
   "file_extension": ".py",
   "mimetype": "text/x-python",
   "name": "python",
   "nbconvert_exporter": "python",
   "pygments_lexer": "ipython3",
   "version": "3.12.4"
  }
 },
 "nbformat": 4,
 "nbformat_minor": 5
}
